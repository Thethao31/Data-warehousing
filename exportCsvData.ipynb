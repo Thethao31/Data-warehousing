{
 "cells": [
  {
   "cell_type": "code",
   "execution_count": 18,
   "id": "73a487f6-9e60-4558-afa2-7940a9ebed99",
   "metadata": {
    "tags": []
   },
   "outputs": [],
   "source": [
    "import psycopg2\n",
    "import csv\n",
    "\n",
    "# Kết nối tới cơ sở dữ liệu PostgreSQL\n",
    "conn = psycopg2.connect(\n",
    "    dbname=\"demo1\",\n",
    "    user=\"postgres\",\n",
    "    password=\"password\",\n",
    "    host=\"localhost\",\n",
    "    port=\"5432\"\n",
    ")\n",
    "\n",
    "# Tạo đối tượng cursor để thực hiện truy vấn\n",
    "cur = conn.cursor()\n",
    "\n",
    "# Câu truy vấn SQL\n",
    "queries = [\n",
    "    # \"SELECT * FROM tbl_user;\",\n",
    "    # \"SELECT * FROM tbl_order;\",\n",
    "    \"SELECT * FROM sales_fact;\",\n",
    "    # \"SELECT * FROM tbl_product;\"\n",
    "]\n",
    "\n",
    "csv_files = [\n",
    "    # 'tbl_user.csv'\n",
    "     # 'tbl_order.csv', \n",
    "    'sales_fact.csv', \n",
    "    # 'tbl_product.csv'\n",
    "            ]\n",
    "\n",
    "for i in range(len(queries)):\n",
    "    query = queries[i]\n",
    "    csv_file = csv_files[i]\n",
    "    \n",
    "# Thực hiện truy vấn\n",
    "cur.execute(query)\n",
    "\n",
    "# Lấy kết quả của truy vấn\n",
    "rows = cur.fetchall()\n",
    "\n",
    "# Ghi dữ liệu vào file CSV\n",
    "with open(csv_file, 'w', newline='', encoding='utf-8') as file:\n",
    "    writer = csv.writer(file)\n",
    "    # Ghi dòng tiêu đề của các cột\n",
    "    writer.writerow([desc[0] for desc in cur.description])\n",
    "    # Ghi dữ liệu từ các hàng vào file\n",
    "    writer.writerows(rows)\n",
    "\n",
    "cur.close()\n",
    "conn.close()"
   ]
  }
 ],
 "metadata": {
  "kernelspec": {
   "display_name": "Python 3 (ipykernel)",
   "language": "python",
   "name": "python3"
  },
  "language_info": {
   "codemirror_mode": {
    "name": "ipython",
    "version": 3
   },
   "file_extension": ".py",
   "mimetype": "text/x-python",
   "name": "python",
   "nbconvert_exporter": "python",
   "pygments_lexer": "ipython3",
   "version": "3.10.9"
  }
 },
 "nbformat": 4,
 "nbformat_minor": 5
}
